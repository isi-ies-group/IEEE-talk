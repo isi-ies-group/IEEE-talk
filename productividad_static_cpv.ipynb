{
 "cells": [
  {
   "cell_type": "code",
   "execution_count": 1,
   "metadata": {},
   "outputs": [],
   "source": [
    "%matplotlib notebook\n",
    "\n",
    "from math import sqrt\n",
    "\n",
    "import pandas as pd\n",
    "import numpy as np\n",
    "import matplotlib.pyplot as plt\n",
    "import pvlib\n",
    "\n",
    "import cpvlib"
   ]
  },
  {
   "cell_type": "code",
   "execution_count": 2,
   "metadata": {},
   "outputs": [],
   "source": [
    "lat, lon = 40.4, -3.7\n",
    "\n",
    "tilt = lat - 10"
   ]
  },
  {
   "cell_type": "code",
   "execution_count": 3,
   "metadata": {},
   "outputs": [],
   "source": [
    "data_pvgis = pvlib.iotools.get_pvgis_tmy(lat, lon)\n",
    "\n",
    "alt = data_pvgis[2]['location']['elevation']\n",
    "\n",
    "data_tmy = data_pvgis[0].rename(columns={\n",
    "    'Gb(n)': 'dni',\n",
    "    'G(h)': 'ghi',\n",
    "    'Gd(h)': 'dhi',\n",
    "    'T2m': 'temp_air',\n",
    "    'WS10m': 'wind_speed',\n",
    "})\n",
    "\n",
    "data = data_tmy.set_index(\n",
    "    data_tmy.index.map(lambda t: t.replace(year=2010)))\n",
    "\n",
    "location = pvlib.location.Location(\n",
    "    latitude=lat, longitude=lon, altitude=alt, tz='utc')\n",
    "\n",
    "solpos = location.get_solarposition(data.index)"
   ]
  },
  {
   "cell_type": "code",
   "execution_count": 4,
   "metadata": {},
   "outputs": [],
   "source": [
    "A_ref = 10\n",
    "eff_opt = 0.83\n",
    "\n",
    "# Soitec CX-M500\n",
    "\n",
    "A = 7.386  # m2\n",
    "\n",
    "corr = A_ref / A\n",
    "A *= corr\n",
    "cpv_mod_params = {\n",
    "    \"alpha_sc\": 0.00,\n",
    "    \"gamma_ref\": 3.664,\n",
    "    \"mu_gamma\": 0.003,\n",
    "    \"I_L_ref\": 3.861 *1.274*eff_opt *sqrt(corr),\n",
    "    \"I_o_ref\": 0.005e-9,\n",
    "    \"R_sh_ref\": 3461,\n",
    "    \"R_sh_0\": 25000,\n",
    "    \"R_s\": 0.61,\n",
    "    \"EgRef\": 3.91,\n",
    "    \"cells_in_series\": 240 *sqrt(corr),\n",
    "    \"irrad_ref\":943,\n",
    "    \"temp_ref\":64\n",
    "}\n",
    "\n",
    "cpv_UF_parameters = {\n",
    "    \"IscDNI_top\": 1,\n",
    "    \"am_thld\": 1.7,\n",
    "    \"am_uf_m_low\": 0.1,\n",
    "    \"am_uf_m_high\": -0.1,\n",
    "    \"ta_thld\": 25,\n",
    "    \"ta_uf_m_low\": 0.005,\n",
    "    \"ta_uf_m_high\": 0,\n",
    "    \"weight_am\": 0.55,\n",
    "    \"weight_temp\": 0.45,\n",
    "}\n",
    "\n",
    "cpv_mod_params.update(cpv_UF_parameters)"
   ]
  },
  {
   "cell_type": "code",
   "execution_count": 5,
   "metadata": {},
   "outputs": [],
   "source": [
    "cpv_temp_mod_params = {\"eta_m\": 0.32, \"u_c\":29.0, \"u_v\":0.6} # Gerstmaier, Tobias et al «Validation of the PVSyst Performance Model for the Concentrix CPV Technology»\n",
    "#  Valores por defecto: u_c=29.0, u_v=0.0, eta_m=0.1, alpha_absorption=0.9"
   ]
  },
  {
   "cell_type": "code",
   "execution_count": 6,
   "metadata": {},
   "outputs": [
    {
     "name": "stdout",
     "output_type": "stream",
     "text": [
      "Pdc_stc=3487 eff_a=34.87%\n"
     ]
    }
   ],
   "source": [
    "# calcula Pmp STC\n",
    "Pdc_stc = pvlib.pvsystem.singlediode(*cpvlib.StaticCPVSystem(\n",
    "    module_parameters=cpv_mod_params\n",
    "    ).calcparams_pvsyst(\n",
    "    effective_irradiance=1000,\n",
    "    temp_cell=25))['p_mp']\n",
    "\n",
    "eff_a = Pdc_stc / (1000 * A)\n",
    "\n",
    "print(f'Pdc_stc={Pdc_stc:.0f} eff_a={eff_a:.2%}')"
   ]
  },
  {
   "cell_type": "code",
   "execution_count": 7,
   "metadata": {
    "scrolled": true
   },
   "outputs": [
    {
     "name": "stdout",
     "output_type": "stream",
     "text": [
      "tilt=30.4\n",
      "PR=0.73, Ya=1092 kWh/kW, Yr=1498 kWh/kW\n",
      "Total annual energy per reference area=3808 kWh/year\n"
     ]
    },
    {
     "name": "stderr",
     "output_type": "stream",
     "text": [
      "C:\\Users\\Ruben\\Documents\\GitHub\\StaticHybridSystem-benchmark\\cpvlib.py:206: pvlibDeprecationWarning: The pvsyst_celltemp function was deprecated in pvlib 0.7 and will be removed in 0.8. Use temperature.pvsyst_cell instead. Note that the argument names for temperature.pvsyst_cell are different than for pvsyst_celltemp\n",
      "  **kwargs)\n"
     ]
    }
   ],
   "source": [
    "#for tilt in range(30, 40, 1):\n",
    "static_cpv_sys = cpvlib.StaticCPVSystem(\n",
    "    surface_tilt=tilt,\n",
    "    surface_azimuth=180,\n",
    "    module_parameters=cpv_mod_params,\n",
    "    temperature_model_parameters=cpv_temp_mod_params,\n",
    "    modules_per_string=1,\n",
    ")\n",
    "\n",
    "irradiance = static_cpv_sys.get_irradiance(\n",
    "    solpos['zenith'], solpos['azimuth'], data['dni'])\n",
    "\n",
    "aoi = static_cpv_sys.get_aoi(\n",
    "    solar_zenith=solpos['zenith'],\n",
    "    solar_azimuth=solpos['azimuth'],\n",
    ")\n",
    "\n",
    "theta_ref = [0, 5, 10, 15, 20, 25, 30, 35, 40, 45, 50, 55, 60]\n",
    "iam_ref = [1.000, 1.007, 0.998, 0.991, 0.971, 0.966, 0.938, 0.894, 0.830, 0.790, 0.740, 0.649, 0.387]\n",
    "\n",
    "effective_irradiance = irradiance * pvlib.iam.interp(aoi, theta_ref, iam_ref, method='linear')\n",
    "\n",
    "# pd.Series(iam_ref, theta_ref).plot()\n",
    "\n",
    "cell_temp = static_cpv_sys.pvsyst_celltemp(\n",
    "    poa_global=effective_irradiance,\n",
    "    temp_air=data['temp_air'],\n",
    "    wind_speed=data['wind_speed']\n",
    ")\n",
    "\n",
    "diode_parameters = static_cpv_sys.calcparams_pvsyst(\n",
    "    effective_irradiance=effective_irradiance,\n",
    "    temp_cell=cell_temp,\n",
    ")\n",
    "\n",
    "power = static_cpv_sys.singlediode(*diode_parameters)\n",
    "\n",
    "data['am'] = location.get_airmass(data.index).airmass_absolute\n",
    "\n",
    "uf_cpv = static_cpv_sys.get_am_util_factor(data['am'])\n",
    "\n",
    "p_mp_uf = power['p_mp'] * uf_cpv\n",
    "\n",
    "Yr = irradiance.resample('M').sum() / 1000\n",
    "Ya = p_mp_uf.resample('M').sum() / Pdc_stc\n",
    "Lc = Yr - Ya\n",
    "\n",
    "PR = Ya / Yr\n",
    "\n",
    "data_monthly = pd.concat([Yr, PR], axis='columns')\n",
    "data_monthly.columns = ['Yr', 'PR']\n",
    "\n",
    "#ax = data_monthly.plot(kind='bar', secondary_y='PR')\n",
    "#ax.set_xticklabels(data.resample('M').sum().index.strftime('%b'))\n",
    "\n",
    "print(f\"tilt={tilt}\")\n",
    "print(f'PR={Ya.sum()/Yr.sum():.2}, Ya={Ya.sum():.0f} kWh/kW, Yr={Yr.sum():.0f} kWh/kW')\n",
    "print(f'Total annual energy per reference area={p_mp_uf.sum()/1000:.0f} kWh/year')"
   ]
  }
 ],
 "metadata": {
  "kernelspec": {
   "display_name": "Python 3",
   "language": "python",
   "name": "python3"
  },
  "language_info": {
   "codemirror_mode": {
    "name": "ipython",
    "version": 3
   },
   "file_extension": ".py",
   "mimetype": "text/x-python",
   "name": "python",
   "nbconvert_exporter": "python",
   "pygments_lexer": "ipython3",
   "version": "3.7.7"
  }
 },
 "nbformat": 4,
 "nbformat_minor": 4
}
