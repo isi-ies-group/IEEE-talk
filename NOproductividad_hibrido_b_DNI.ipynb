{
 "cells": [
  {
   "cell_type": "code",
   "execution_count": 1,
   "metadata": {},
   "outputs": [],
   "source": [
    "%matplotlib notebook\n",
    "\n",
    "from math import sqrt\n",
    "\n",
    "import pandas as pd\n",
    "import numpy as np\n",
    "import matplotlib.pyplot as plt\n",
    "import pvlib\n",
    "\n",
    "import cpvlib\n",
    "\n",
    "from sistemas_irr_dni import genera_pot_static_cpv, genera_pot_flatplate"
   ]
  },
  {
   "cell_type": "code",
   "execution_count": 2,
   "metadata": {},
   "outputs": [],
   "source": [
    "lat, lon = 40.4, -3.7\n",
    "tilt = lat - 10\n",
    "\n",
    "diffuse_model = 'haydavies'\n",
    "\n",
    "eff_opt_cpv = 0.83\n",
    "eff_opt_pv = 0.70\n",
    "\n",
    "spillage_factor = 0.02\n",
    "\n",
    "aoi_limit = 0"
   ]
  },
  {
   "cell_type": "code",
   "execution_count": 3,
   "metadata": {},
   "outputs": [],
   "source": [
    "data_pvgis = pvlib.iotools.get_pvgis_tmy(lat, lon)\n",
    "\n",
    "alt = data_pvgis[2]['location']['elevation']\n",
    "\n",
    "data_tmy = data_pvgis[0].rename(columns={\n",
    "    'Gb(n)': 'dni',\n",
    "    'G(h)': 'ghi',\n",
    "    'Gd(h)': 'dhi',\n",
    "    'T2m': 'temp_air',\n",
    "    'WS10m': 'wind_speed',\n",
    "})\n",
    "\n",
    "data = data_tmy.set_index(\n",
    "    data_tmy.index.map(lambda t: t.replace(year=2010)))\n",
    "\n",
    "location = pvlib.location.Location(\n",
    "    latitude=lat, longitude=lon, altitude=alt, tz='utc')\n",
    "\n",
    "solpos = location.get_solarposition(data.index)"
   ]
  },
  {
   "cell_type": "code",
   "execution_count": 4,
   "metadata": {},
   "outputs": [
    {
     "ename": "TypeError",
     "evalue": "unsupported operand type(s) for /: 'Location' and 'float'",
     "output_type": "error",
     "traceback": [
      "\u001b[1;31m---------------------------------------------------------------------------\u001b[0m",
      "\u001b[1;31mTypeError\u001b[0m                                 Traceback (most recent call last)",
      "\u001b[1;32m<ipython-input-4-aa4c5ef8c68a>\u001b[0m in \u001b[0;36m<module>\u001b[1;34m\u001b[0m\n\u001b[1;32m----> 1\u001b[1;33m \u001b[0mcpv_power_p_mp\u001b[0m\u001b[1;33m,\u001b[0m \u001b[0maoi\u001b[0m\u001b[1;33m,\u001b[0m \u001b[0mcpv_irradiance_spillage\u001b[0m \u001b[1;33m=\u001b[0m \u001b[0mgenera_pot_static_cpv\u001b[0m\u001b[1;33m(\u001b[0m\u001b[0mlocation\u001b[0m\u001b[1;33m,\u001b[0m \u001b[0msolpos\u001b[0m\u001b[1;33m,\u001b[0m \u001b[0mdata\u001b[0m\u001b[1;33m,\u001b[0m \u001b[0mtilt\u001b[0m\u001b[1;33m,\u001b[0m \u001b[0meff_opt_cpv\u001b[0m\u001b[1;33m,\u001b[0m \u001b[0mspillage_factor\u001b[0m\u001b[1;33m)\u001b[0m\u001b[1;33m\u001b[0m\u001b[1;33m\u001b[0m\u001b[0m\n\u001b[0m\u001b[0;32m      2\u001b[0m \u001b[0mpv_power\u001b[0m\u001b[1;33m,\u001b[0m\u001b[0m_\u001b[0m \u001b[1;33m=\u001b[0m \u001b[0mgenera_pot_flatplate\u001b[0m\u001b[1;33m(\u001b[0m\u001b[0mlocation\u001b[0m\u001b[1;33m,\u001b[0m \u001b[0msolpos\u001b[0m\u001b[1;33m,\u001b[0m \u001b[0mdata\u001b[0m\u001b[1;33m,\u001b[0m \u001b[0mdiffuse_model\u001b[0m\u001b[1;33m,\u001b[0m \u001b[0mtilt\u001b[0m\u001b[1;33m,\u001b[0m \u001b[0maoi_limit\u001b[0m\u001b[1;33m,\u001b[0m \u001b[0meff_opt_pv\u001b[0m\u001b[1;33m,\u001b[0m \u001b[0mcpv_irradiance_spillage\u001b[0m\u001b[1;33m)\u001b[0m\u001b[1;33m\u001b[0m\u001b[1;33m\u001b[0m\u001b[0m\n\u001b[0;32m      3\u001b[0m \u001b[1;33m\u001b[0m\u001b[0m\n\u001b[0;32m      4\u001b[0m \u001b[0ma\u001b[0m\u001b[1;33m,\u001b[0m \u001b[0mb\u001b[0m \u001b[1;33m=\u001b[0m \u001b[1;33m[\u001b[0m\u001b[1;33m]\u001b[0m\u001b[1;33m,\u001b[0m \u001b[1;33m[\u001b[0m\u001b[1;33m]\u001b[0m\u001b[1;33m\u001b[0m\u001b[1;33m\u001b[0m\u001b[0m\n\u001b[0;32m      5\u001b[0m \u001b[0mstep\u001b[0m \u001b[1;33m=\u001b[0m \u001b[1;36m5\u001b[0m\u001b[1;33m\u001b[0m\u001b[1;33m\u001b[0m\u001b[0m\n",
      "\u001b[1;32m~\\Documents\\GitHub\\StaticHybridSystem-benchmark\\sistemas_irr_dni.py\u001b[0m in \u001b[0;36mgenera_pot_static_cpv\u001b[1;34m(A_ref, location, solpos, data, tilt, eff_opt_cpv, in_singleaxis_tracker)\u001b[0m\n\u001b[0;32m    189\u001b[0m     \u001b[0mA\u001b[0m \u001b[1;33m=\u001b[0m \u001b[1;36m7.386\u001b[0m  \u001b[1;31m# m2\u001b[0m\u001b[1;33m\u001b[0m\u001b[1;33m\u001b[0m\u001b[0m\n\u001b[0;32m    190\u001b[0m \u001b[1;33m\u001b[0m\u001b[0m\n\u001b[1;32m--> 191\u001b[1;33m     \u001b[0mcorr\u001b[0m \u001b[1;33m=\u001b[0m \u001b[0mA_ref\u001b[0m \u001b[1;33m/\u001b[0m \u001b[0mA\u001b[0m\u001b[1;33m\u001b[0m\u001b[1;33m\u001b[0m\u001b[0m\n\u001b[0m\u001b[0;32m    192\u001b[0m     \u001b[0mA\u001b[0m \u001b[1;33m*=\u001b[0m \u001b[0mcorr\u001b[0m\u001b[1;33m\u001b[0m\u001b[1;33m\u001b[0m\u001b[0m\n\u001b[0;32m    193\u001b[0m     cpv_mod_params = {\n",
      "\u001b[1;31mTypeError\u001b[0m: unsupported operand type(s) for /: 'Location' and 'float'"
     ]
    }
   ],
   "source": [
    "cpv_power_p_mp, aoi, cpv_irradiance_spillage = genera_pot_static_cpv(location, solpos, data, tilt, eff_opt_cpv, spillage_factor)\n",
    "pv_power,_ = genera_pot_flatplate(location, solpos, data, diffuse_model, tilt, aoi_limit, eff_opt_pv, cpv_irradiance_spillage)\n",
    "\n",
    "a, b = [], []\n",
    "step = 5\n",
    "v_aoi = np.array(range(0,80,step))\n",
    "for daoi in v_aoi:\n",
    "    a.append(cpv_power_p_mp[(daoi<aoi) & (aoi<daoi+step)].max())\n",
    "    b.append(pv_power['p_mp'][(daoi<aoi) & (aoi<daoi+step)].max())\n",
    "\n",
    "a, b = pd.Series(data=a, index=v_aoi), pd.Series(data=b, index=v_aoi)\n",
    "plt.plot(v_aoi, a, v_aoi, b)\n",
    "\n",
    "punto_corte = np.interp(0, -1*(a-b), -1*v_aoi)*-1\n",
    "\n",
    "plt.plot(aoi[aoi<90], cpv_power_p_mp[aoi<90], '.', label='StaticCPV')\n",
    "plt.plot(aoi[aoi<90], pv_power['p_mp'][aoi<90], '.', alpha=0.1, label='StaticFlatplate')\n",
    "plt.legend()\n",
    "plt.title('DNI generation')\n",
    "plt.ylabel('P_mp [W]')\n",
    "plt.xlabel('AOI [º]')\n",
    "\n",
    "condicion = (aoi > punto_corte) & (cpv_power_p_mp > 0)\n",
    "aumento_pot_dni_pv_respecto_cpv = ((pv_power['p_mp'][condicion]).sum() - (cpv_power_p_mp[condicion]).sum()) / cpv_power_p_mp.sum()\n",
    "\n",
    "print(f\"punto_corte={punto_corte:.0f}º\")\n",
    "print(f\"aumento_pot_dni_pv_respecto_cpv={aumento_pot_dni_pv_respecto_cpv:.1%}\")"
   ]
  }
 ],
 "metadata": {
  "kernelspec": {
   "display_name": "Python 3",
   "language": "python",
   "name": "python3"
  },
  "language_info": {
   "codemirror_mode": {
    "name": "ipython",
    "version": 3
   },
   "file_extension": ".py",
   "mimetype": "text/x-python",
   "name": "python",
   "nbconvert_exporter": "python",
   "pygments_lexer": "ipython3",
   "version": "3.7.7"
  }
 },
 "nbformat": 4,
 "nbformat_minor": 4
}
