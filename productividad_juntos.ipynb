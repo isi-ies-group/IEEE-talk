{
 "cells": [
  {
   "cell_type": "code",
   "execution_count": 1,
   "metadata": {},
   "outputs": [],
   "source": [
    "%matplotlib notebook\n",
    "\n",
    "from math import sqrt\n",
    "\n",
    "import numpy as np\n",
    "import pandas as pd\n",
    "import matplotlib.pyplot as plt\n",
    "import pvlib\n",
    "\n",
    "from sistemas import genera_pot_pv, genera_pot_cpv, genera_pot_static_cpv, genera_pot_flatplate"
   ]
  },
  {
   "cell_type": "markdown",
   "metadata": {},
   "source": [
    "# Parámetros entrada"
   ]
  },
  {
   "cell_type": "code",
   "execution_count": 2,
   "metadata": {},
   "outputs": [],
   "source": [
    "# lat, lon = 40.4, -3.7 # Madrid\n",
    "# lat, lon = 36.857, -2.481 # Almeria\n",
    "# lat, lon = 0.912, -77.100 # Ecuador (zona muy cubierta)\n",
    "# lat, lon = 55.974, -3.179 # Edinburgh\n",
    "# lat, lon = 46.527, 6.605 # Laussane\n",
    "lat, lon = 23.998, 3.784 # Tamanraset\n",
    "\n",
    "tilt = lat - 10\n",
    "\n",
    "eff_opt_cpv = 0.83\n",
    "eff_opt_pv = 0.70\n",
    "\n",
    "spillage_factor = 0.02\n",
    "\n",
    "diffuse_model = 'haydavies'\n",
    "\n",
    "in_tracker = False"
   ]
  },
  {
   "cell_type": "markdown",
   "metadata": {},
   "source": [
    "# Lectura TMY(PVGIS) y Análisis irradiancia"
   ]
  },
  {
   "cell_type": "code",
   "execution_count": null,
   "metadata": {},
   "outputs": [],
   "source": [
    "data_pvgis = pvlib.iotools.get_pvgis_tmy(lat, lon)\n",
    "\n",
    "alt = data_pvgis[2]['location']['elevation']\n",
    "\n",
    "data_tmy = data_pvgis[0].rename(columns={\n",
    "    'Gb(n)': 'dni',\n",
    "    'G(h)': 'ghi',\n",
    "    'Gd(h)': 'dhi',\n",
    "    'T2m': 'temp_air',\n",
    "    'WS10m': 'wind_speed',\n",
    "})\n",
    "\n",
    "data = data_tmy.set_index(\n",
    "    data_tmy.index.map(lambda t: t.replace(year=2010)))\n",
    "\n",
    "location = pvlib.location.Location(\n",
    "    latitude=lat, longitude=lon, altitude=alt, tz='utc')\n",
    "\n",
    "solpos = location.get_solarposition(data.index)\n",
    "\n",
    "data[['poa_global', 'poa_diffuse']] = pvlib.irradiance.get_total_irradiance(surface_tilt=tilt, surface_azimuth=180,\n",
    "                         solar_zenith=solpos['zenith'], solar_azimuth=solpos['azimuth'],\n",
    "                         dni=data['dni'], ghi=data['ghi'], dhi=data['dhi'],\n",
    "                         dni_extra=pvlib.irradiance.get_extra_radiation(data.index), model=diffuse_model,\n",
    "                        )[['poa_global', 'poa_diffuse']]\n",
    "\n",
    "data_monthly = data[['dni', 'poa_global', 'poa_diffuse']].resample('M').sum() / 1000\n",
    "\n",
    "ax = data_monthly.plot(kind='bar')\n",
    "ax.set_xticklabels(data.resample('M').sum().index.strftime('%b'))\n",
    "\n",
    "print(data_monthly.sum())"
   ]
  },
  {
   "cell_type": "markdown",
   "metadata": {},
   "source": [
    "# Sistema PV (plano fijo)"
   ]
  },
  {
   "cell_type": "code",
   "execution_count": null,
   "metadata": {},
   "outputs": [],
   "source": [
    "pv_irradiance, pv_p_mp, pv_Pdc_stc, pv_eff_a = genera_pot_pv(location, solpos, data, \n",
    "                                                    tilt, diffuse_model, in_singleaxis_tracker=in_tracker)\n",
    "\n",
    "Yr = pv_irradiance.resample('M').sum() / 1000\n",
    "Ya = pv_p_mp.resample('M').sum() / pv_Pdc_stc\n",
    "Lc = Yr - Ya\n",
    "\n",
    "PR = Ya / Yr\n",
    "\n",
    "data_monthly = pd.concat([Yr, PR], axis='columns')\n",
    "data_monthly.columns = ['Yr', 'PR']\n",
    "\n",
    "# ax = data_monthly.plot(kind='bar', secondary_y='PR')\n",
    "# ax.set_xticklabels(data.resample('M').sum().index.strftime('%b'))\n",
    "\n",
    "print(f'\\nTilt={tilt:.1f} in_tracker={in_tracker}')\n",
    "print(f'pv_Pdc_stc={pv_Pdc_stc:.0f} pv_eff_a={pv_eff_a:.2%}')\n",
    "print(f'PR={Ya.sum()/Yr.sum():.2}, Ya={Ya.sum():.0f} kWh/kW, Yr={Yr.sum():.0f} kWh/kW')\n",
    "print(f'Total annual energy per reference area={pv_p_mp.sum()/1000:.0f} kWh/year')"
   ]
  },
  {
   "cell_type": "markdown",
   "metadata": {},
   "source": [
    "# Sistema CPV (2 ejes)"
   ]
  },
  {
   "cell_type": "code",
   "execution_count": null,
   "metadata": {
    "scrolled": true
   },
   "outputs": [],
   "source": [
    "cpv_irradiance, cpv_p_mp, cpv_Pdc_stc, cpv_eff_a = genera_pot_cpv(location, solpos, data, tilt, eff_opt_cpv)\n",
    "\n",
    "Yr = cpv_irradiance.resample('M').sum() / 1000\n",
    "Ya = cpv_p_mp.resample('M').sum() / cpv_Pdc_stc\n",
    "Lc = Yr - Ya\n",
    "\n",
    "PR = Ya / Yr\n",
    "\n",
    "data_monthly = pd.concat([Yr, PR], axis='columns')\n",
    "data_monthly.columns = ['Yr', 'PR']\n",
    "\n",
    "# ax = data_monthly.plot(kind='bar', secondary_y='PR')\n",
    "# ax.set_xticklabels(data.resample('M').sum().index.strftime('%b'))\n",
    "\n",
    "print(f'cpv_Pdc_stc={cpv_Pdc_stc:.0f} cpv_eff_a={cpv_eff_a:.2%}')\n",
    "print(f'PR={Ya.sum()/Yr.sum():.2}, Ya={Ya.sum():.0f} kWh/kW, Yr={Yr.sum():.0f} kWh/kW')\n",
    "print(f'Total annual energy per reference area={cpv_p_mp.sum()/1000:.0f} kWh/year')"
   ]
  },
  {
   "cell_type": "markdown",
   "metadata": {},
   "source": [
    "# Sistema StaticCPV (plano fijo)"
   ]
  },
  {
   "cell_type": "code",
   "execution_count": null,
   "metadata": {},
   "outputs": [],
   "source": [
    "# for tilt in range(30, 40, 1):\n",
    "cpv_static_irradiance, cpv_static_p_mp, cpv_static_Pdc_stc, cpv_static_eff_a, aoi = genera_pot_static_cpv(location, solpos, data, tilt, \n",
    "                                                                                    eff_opt_cpv, in_singleaxis_tracker=in_tracker)\n",
    "\n",
    "Yr = cpv_static_irradiance.resample('M').sum() / 1000\n",
    "Ya = cpv_static_p_mp.resample('M').sum() / cpv_static_Pdc_stc\n",
    "Lc = Yr - Ya\n",
    "\n",
    "PR = Ya / Yr\n",
    "\n",
    "data_monthly = pd.concat([Yr, PR], axis='columns')\n",
    "data_monthly.columns = ['Yr', 'PR']\n",
    "\n",
    "# ax = data_monthly.plot(kind='bar', secondary_y='PR')\n",
    "# ax.set_xticklabels(data.resample('M').sum().index.strftime('%b'))\n",
    "\n",
    "print(f'\\nTilt={tilt:.1f} in_tracker={in_tracker}')\n",
    "print(f'cpv_static_Pdc_stc={cpv_static_Pdc_stc:.0f} cpv_static_eff_a={cpv_static_eff_a:.2%}')\n",
    "print(f'PR={Ya.sum()/Yr.sum():.2}, Ya={Ya.sum():.0f} kWh/kW, Yr={Yr.sum():.0f} kWh/kW')\n",
    "print(f'Total annual energy per reference area={cpv_static_p_mp.sum()/1000:.0f} kWh/year')"
   ]
  },
  {
   "cell_type": "markdown",
   "metadata": {},
   "source": [
    "# Sistema FlatplatePV-Difusa(plano fijo, difusa+dni(aoi_limit)+spillage)\n",
    "Solo entrada=difusa -> aoi_limit=90"
   ]
  },
  {
   "cell_type": "code",
   "execution_count": null,
   "metadata": {
    "scrolled": true
   },
   "outputs": [],
   "source": [
    "# for tilt in range(30, 40, 1):\n",
    "type_irr_input = 'diffuse'\n",
    "aoi_limit = 90\n",
    "\n",
    "cpv_irradiance_spillage = cpv_static_irradiance * spillage_factor\n",
    "\n",
    "pv_diffuse_irradiance, pv_diffuse_p_mp, pv_diffuse_Pdc_stc, pv_diffuse_eff_a, aoi = genera_pot_flatplate(location, solpos, data, diffuse_model, tilt, \n",
    "                                                                        aoi_limit, eff_opt_pv, cpv_irradiance_spillage, \n",
    "                                                                        type_irr_input, in_singleaxis_tracker=in_tracker)\n",
    "\n",
    "Yr = pv_diffuse_irradiance.resample('M').sum() / 1000\n",
    "Ya = pv_diffuse_p_mp.resample('M').sum() / pv_diffuse_Pdc_stc\n",
    "Lc = Yr - Ya\n",
    "\n",
    "PR = Ya / Yr\n",
    "\n",
    "data_monthly = pd.concat([Yr, PR], axis='columns')\n",
    "data_monthly.columns = ['Yr', 'PR']\n",
    "\n",
    "# ax = data_monthly.plot(kind='bar', secondary_y='PR')\n",
    "# ax.set_xticklabels(data.resample('M').sum().index.strftime('%b'))\n",
    "\n",
    "print(f'\\nTilt={tilt:.1f} in_tracker={in_tracker}')\n",
    "print(f'pv_diffuse_Pdc_stc={pv_diffuse_Pdc_stc:.0f} pv_diffuse_eff_a={pv_diffuse_eff_a:.2%}')\n",
    "print(f'PR={Ya.sum()/Yr.sum():.2}, Ya={Ya.sum():.0f} kWh/kW, Yr={Yr.sum():.0f} kWh/kW')\n",
    "print(f'Total annual energy per reference area={pv_diffuse_p_mp.sum()/1000:.0f} kWh/year')"
   ]
  },
  {
   "cell_type": "markdown",
   "metadata": {},
   "source": [
    "# Sistema FlatplatePV-DNI (plano fijo, difusa+dni(aoi_limit)+spillage)\n",
    "Solo entrada=dni -> aoi_limit=90"
   ]
  },
  {
   "cell_type": "code",
   "execution_count": null,
   "metadata": {},
   "outputs": [],
   "source": [
    "# for tilt in range(30, 40, 1):\n",
    "type_irr_input = 'dni'\n",
    "aoi_limit = 90\n",
    "\n",
    "cpv_irradiance_spillage = cpv_static_irradiance * spillage_factor\n",
    "\n",
    "pv_dni_irradiance, pv_dni_p_mp, pv_dni_Pdc_stc, pv_dni_eff_a, aoi = genera_pot_flatplate(location, solpos, data, diffuse_model, tilt, \n",
    "                                                                    aoi_limit, eff_opt_pv, cpv_irradiance_spillage, \n",
    "                                                                    type_irr_input, in_singleaxis_tracker=in_tracker)\n",
    "\n",
    "Yr = pv_dni_irradiance.resample('M').sum() / 1000\n",
    "Ya = pv_dni_p_mp.resample('M').sum() / pv_dni_Pdc_stc\n",
    "Lc = Yr - Ya\n",
    "\n",
    "PR = Ya / Yr\n",
    "\n",
    "data_monthly = pd.concat([Yr, PR], axis='columns')\n",
    "data_monthly.columns = ['Yr', 'PR']\n",
    "\n",
    "# ax = data_monthly.plot(kind='bar', secondary_y='PR')\n",
    "# ax.set_xticklabels(data.resample('M').sum().index.strftime('%b'))\n",
    "\n",
    "print(f'\\nTilt={tilt:.1f} in_tracker={in_tracker}')\n",
    "print(f'pv_dni_Pdc_stc={pv_dni_Pdc_stc:.0f} pv_dni_eff_a={pv_dni_eff_a:.2%}')\n",
    "print(f'PR={Ya.sum()/Yr.sum():.2}, Ya={Ya.sum():.0f} kWh/kW, Yr={Yr.sum():.0f} kWh/kW')\n",
    "print(f'Total annual energy per reference area={pv_dni_p_mp.sum()/1000:.0f} kWh/year')"
   ]
  },
  {
   "cell_type": "markdown",
   "metadata": {},
   "source": [
    "# Sistema Híbrido StaticCPV+Flatplate\n",
    "DNI(StaticCPV) + Difusa"
   ]
  },
  {
   "cell_type": "code",
   "execution_count": null,
   "metadata": {
    "scrolled": true
   },
   "outputs": [],
   "source": [
    "power_hybrid = cpv_static_p_mp + pv_diffuse_p_mp\n",
    "print(f'Total annual energy per reference area={power_hybrid.sum()/1000:.0f} kWh/year')"
   ]
  },
  {
   "cell_type": "markdown",
   "metadata": {},
   "source": [
    "# Sistema Híbrido StaticCPV+Flatplate\n",
    "DNI(max:StaticCPV,Flatplate) + Difusa"
   ]
  },
  {
   "cell_type": "code",
   "execution_count": null,
   "metadata": {},
   "outputs": [],
   "source": [
    "power_hybrid_dni_max = np.maximum(cpv_static_p_mp, pv_dni_p_mp) + pv_diffuse_p_mp\n",
    "print(f'Total annual energy per reference area={power_hybrid_dni_max.sum()/1000:.0f} kWh/year')\n",
    "\n",
    "print(f'eff_energia={power_hybrid_dni_max.sum() / (data[\"poa_global\"].sum() * 10):.2f}')"
   ]
  }
 ],
 "metadata": {
  "kernelspec": {
   "display_name": "Python 3",
   "language": "python",
   "name": "python3"
  },
  "language_info": {
   "codemirror_mode": {
    "name": "ipython",
    "version": 3
   },
   "file_extension": ".py",
   "mimetype": "text/x-python",
   "name": "python",
   "nbconvert_exporter": "python",
   "pygments_lexer": "ipython3",
   "version": "3.7.7"
  }
 },
 "nbformat": 4,
 "nbformat_minor": 4
}
